{
  "nbformat": 4,
  "nbformat_minor": 0,
  "metadata": {
    "colab": {
      "name": "project116",
      "provenance": [],
      "authorship_tag": "ABX9TyPnmlsOnWKQ4p2spyuGj7Ss",
      "include_colab_link": true
    },
    "kernelspec": {
      "name": "python3",
      "display_name": "Python 3"
    }
  },
  "cells": [
    {
      "cell_type": "markdown",
      "metadata": {
        "id": "view-in-github",
        "colab_type": "text"
      },
      "source": [
        "<a href=\"https://colab.research.google.com/github/kalravm41/project116/blob/main/project116.ipynb\" target=\"_parent\"><img src=\"https://colab.research.google.com/assets/colab-badge.svg\" alt=\"Open In Colab\"/></a>"
      ]
    },
    {
      "cell_type": "code",
      "metadata": {
        "colab": {
          "base_uri": "https://localhost:8080/",
          "height": 1000
        },
        "id": "lSENgkAxSMMF",
        "outputId": "069549cd-6262-45a1-bbbb-23f05d99e615"
      },
      "source": [
        "import pandas as pd\n",
        "import plotly.express as px\n",
        "import plotly.graph_objects as go\n",
        "import csv\n",
        "import numpy as np\n",
        "\n",
        "df = pd.read_csv('data.csv')\n",
        "\n",
        "Toefl = df['TOEFL Score'].tolist()\n",
        "Gre = df['GRE'].tolist()\n",
        "Admission = df['Chances'].tolist()\n",
        "\n",
        "color = []\n",
        "\n",
        "for i in Admission:\n",
        "  if i < 0.5:\n",
        "    color.append('Red')\n",
        "  elif i > 0.5:\n",
        "    color.append('Green')\n",
        "\n",
        "fig = px.scatter(x= Toefl, y= Gre)\n",
        "fig = go.Figure(data = go.Scatter(x = Toefl, y = Gre, mode = 'markers', marker = dict(color = color)))\n",
        "fig.show()\n",
        "\n",
        "Scores = df[['TOEFL Score', 'GRE']]\n",
        "Admissions = df['Chances']\n",
        "\n",
        "from sklearn.model_selection import train_test_split\n",
        "\n",
        "ScoresTrain,ScoresTest,AdmissionTrain,AdmissionTest = train_test_split(Scores, Admissions, test_size = 0.25, random_state = 0)\n",
        "\n",
        "from sklearn.linear_model import LogisticRegression\n",
        "\n",
        "print(ScoresTrain)\n",
        "lr = LogisticRegression(random_state = 0)\n",
        "lr.fit(ScoresTrain,AdmissionTrain)\n",
        "\n",
        "AdmissionPredict = lr.predict(ScoresTest)\n",
        "from sklearn.metrics import accuracy_score\n"
      ],
      "execution_count": 12,
      "outputs": [
        {
          "output_type": "display_data",
          "data": {
            "text/html": [
              "<html>\n",
              "<head><meta charset=\"utf-8\" /></head>\n",
              "<body>\n",
              "    <div>\n",
              "            <script src=\"https://cdnjs.cloudflare.com/ajax/libs/mathjax/2.7.5/MathJax.js?config=TeX-AMS-MML_SVG\"></script><script type=\"text/javascript\">if (window.MathJax) {MathJax.Hub.Config({SVG: {font: \"STIX-Web\"}});}</script>\n",
              "                <script type=\"text/javascript\">window.PlotlyConfig = {MathJaxConfig: 'local'};</script>\n",
              "        <script src=\"https://cdn.plot.ly/plotly-latest.min.js\"></script>    \n",
              "            <div id=\"86f67e44-9a45-4ac2-95a6-41a058d381a7\" class=\"plotly-graph-div\" style=\"height:525px; width:100%;\"></div>\n",
              "            <script type=\"text/javascript\">\n",
              "                \n",
              "                    window.PLOTLYENV=window.PLOTLYENV || {};\n",
              "                    \n",
              "                if (document.getElementById(\"86f67e44-9a45-4ac2-95a6-41a058d381a7\")) {\n",
              "                    Plotly.newPlot(\n",
              "                        '86f67e44-9a45-4ac2-95a6-41a058d381a7',\n",
              "                        [{\"marker\": {\"color\": [\"Green\", \"Green\", \"Green\", \"Green\", \"Green\", \"Green\", \"Green\", \"Green\", \"Red\", \"Green\", \"Green\", \"Green\", \"Green\", \"Green\", \"Green\", \"Green\", \"Green\", \"Green\", \"Green\", \"Green\", \"Green\", \"Green\", \"Green\", \"Green\", \"Green\", \"Green\", \"Red\", \"Red\", \"Green\", \"Green\", \"Green\", \"Green\", \"Green\", \"Green\", \"Green\", \"Green\", \"Green\", \"Green\", \"Red\", \"Red\", \"Red\", \"Green\", \"Green\", \"Green\", \"Green\", \"Green\", \"Green\", \"Green\", \"Green\", \"Green\", \"Green\", \"Green\", \"Green\", \"Green\", \"Green\", \"Green\", \"Red\", \"Red\", \"Red\", \"Red\", \"Red\", \"Green\", \"Green\", \"Green\", \"Green\", \"Green\", \"Green\", \"Green\", \"Green\", \"Green\", \"Green\", \"Green\", \"Green\", \"Green\", \"Green\", \"Green\", \"Green\", \"Red\", \"Red\", \"Green\", \"Green\", \"Green\", \"Green\", \"Green\", \"Green\", \"Green\", \"Green\", \"Green\", \"Green\", \"Red\", \"Red\", \"Red\", \"Red\", \"Red\", \"Red\", \"Green\", \"Green\", \"Green\", \"Green\", \"Green\", \"Green\", \"Green\", \"Green\", \"Green\", \"Green\", \"Green\", \"Green\", \"Green\", \"Green\", \"Green\", \"Green\", \"Green\", \"Green\", \"Green\", \"Green\", \"Red\", \"Red\", \"Green\", \"Green\", \"Green\", \"Green\", \"Green\", \"Green\", \"Green\", \"Green\", \"Green\", \"Green\", \"Green\", \"Green\", \"Green\", \"Green\", \"Green\", \"Green\", \"Green\", \"Green\", \"Green\", \"Green\", \"Green\", \"Green\", \"Green\", \"Green\", \"Green\", \"Green\", \"Green\", \"Green\", \"Green\", \"Green\", \"Green\", \"Green\", \"Green\", \"Green\", \"Green\", \"Green\", \"Green\", \"Green\", \"Green\", \"Green\", \"Green\", \"Green\", \"Green\", \"Green\", \"Green\", \"Green\", \"Green\", \"Green\", \"Green\", \"Green\", \"Green\", \"Green\", \"Green\", \"Green\", \"Green\", \"Green\", \"Green\", \"Green\", \"Green\", \"Green\", \"Green\", \"Green\", \"Green\", \"Green\", \"Green\", \"Green\", \"Green\", \"Green\", \"Green\", \"Green\", \"Green\", \"Green\", \"Green\", \"Green\", \"Green\", \"Green\", \"Green\", \"Green\", \"Green\", \"Green\", \"Green\", \"Green\", \"Green\", \"Green\", \"Green\", \"Green\", \"Green\", \"Green\", \"Green\", \"Green\", \"Green\", \"Green\", \"Green\", \"Green\", \"Green\", \"Green\", \"Green\", \"Green\", \"Green\", \"Green\", \"Green\", \"Green\", \"Green\", \"Green\", \"Green\", \"Green\", \"Green\", \"Green\", \"Green\", \"Green\", \"Green\", \"Green\", \"Green\", \"Green\", \"Green\", \"Green\", \"Green\", \"Green\", \"Green\", \"Green\", \"Green\", \"Green\", \"Green\", \"Green\", \"Green\", \"Green\", \"Green\", \"Green\", \"Green\", \"Green\", \"Green\", \"Green\", \"Green\", \"Green\", \"Green\", \"Green\", \"Green\", \"Green\", \"Green\", \"Green\", \"Green\", \"Green\", \"Green\", \"Green\", \"Green\", \"Green\", \"Green\", \"Green\", \"Green\", \"Green\", \"Green\", \"Green\", \"Green\", \"Red\", \"Green\", \"Green\", \"Green\", \"Green\", \"Green\", \"Green\", \"Green\", \"Green\", \"Green\", \"Green\", \"Green\", \"Green\", \"Green\", \"Green\", \"Green\", \"Green\", \"Green\", \"Green\", \"Green\", \"Green\", \"Green\", \"Green\", \"Green\", \"Green\", \"Green\", \"Green\", \"Green\", \"Green\", \"Green\", \"Green\", \"Green\", \"Green\", \"Green\", \"Green\", \"Green\", \"Green\", \"Green\", \"Green\", \"Green\", \"Green\", \"Green\", \"Green\", \"Green\", \"Green\", \"Green\", \"Green\", \"Green\", \"Green\", \"Green\", \"Green\", \"Green\", \"Green\", \"Green\", \"Green\", \"Green\", \"Green\", \"Red\", \"Green\", \"Green\", \"Green\", \"Green\", \"Green\", \"Green\", \"Green\", \"Green\", \"Green\", \"Green\", \"Green\", \"Green\", \"Green\", \"Green\", \"Red\", \"Red\", \"Red\", \"Red\", \"Green\", \"Green\", \"Green\", \"Green\", \"Green\", \"Green\", \"Green\", \"Green\", \"Green\", \"Green\", \"Green\", \"Green\", \"Green\", \"Green\", \"Green\", \"Green\", \"Green\", \"Green\", \"Green\", \"Green\", \"Green\", \"Green\", \"Green\", \"Green\", \"Green\", \"Green\", \"Red\", \"Red\", \"Red\", \"Red\", \"Green\", \"Green\", \"Green\", \"Green\", \"Green\", \"Green\", \"Green\", \"Green\", \"Red\", \"Green\", \"Red\", \"Green\", \"Green\", \"Green\", \"Green\", \"Green\", \"Green\", \"Green\", \"Green\", \"Green\", \"Green\", \"Green\"]}, \"mode\": \"markers\", \"type\": \"scatter\", \"x\": [118, 107, 104, 110, 103, 115, 109, 101, 102, 108, 106, 111, 112, 109, 104, 105, 107, 106, 110, 102, 107, 114, 116, 119, 119, 120, 109, 98, 93, 99, 97, 103, 118, 114, 112, 110, 106, 105, 105, 108, 110, 105, 107, 117, 113, 110, 114, 119, 110, 111, 98, 100, 116, 112, 110, 103, 102, 99, 99, 104, 100, 101, 105, 107, 111, 112, 114, 107, 109, 115, 118, 112, 111, 108, 106, 114, 112, 99, 95, 93, 105, 120, 110, 115, 115, 103, 106, 107, 108, 109, 106, 97, 98, 97, 99, 100, 100, 120, 119, 113, 107, 105, 106, 104, 112, 110, 111, 117, 116, 103, 108, 109, 107, 110, 105, 106, 102, 104, 99, 104, 117, 119, 106, 108, 106, 100, 113, 112, 112, 118, 114, 105, 105, 112, 113, 109, 103, 100, 116, 109, 110, 118, 115, 120, 112, 113, 105, 114, 116, 106, 114, 116, 112, 105, 108, 109, 105, 104, 106, 100, 103, 99, 109, 105, 111, 110, 102, 102, 97, 99, 101, 117, 110, 113, 111, 111, 119, 110, 108, 102, 104, 107, 100, 110, 106, 113, 107, 118, 115, 112, 111, 110, 114, 118, 109, 107, 105, 106, 104, 107, 103, 110, 120, 120, 105, 99, 99, 102, 106, 104, 108, 110, 120, 119, 117, 116, 112, 109, 110, 104, 103, 110, 113, 109, 105, 99, 110, 110, 112, 111, 104, 106, 107, 100, 113, 111, 112, 114, 104, 100, 101, 103, 115, 114, 107, 110, 105, 104, 110, 111, 104, 99, 100, 115, 114, 110, 99, 100, 102, 119, 108, 104, 103, 111, 110, 102, 105, 107, 113, 108, 105, 96, 95, 99, 100, 110, 113, 101, 103, 102, 102, 110, 106, 111, 112, 116, 118, 114, 104, 109, 105, 102, 99, 98, 101, 100, 107, 120, 114, 112, 106, 108, 105, 107, 106, 109, 110, 112, 108, 110, 104, 108, 107, 100, 105, 104, 101, 99, 111, 113, 106, 104, 107, 102, 104, 116, 100, 101, 112, 96, 113, 105, 106, 108, 107, 111, 110, 118, 108, 107, 107, 110, 106, 103, 96, 98, 97, 94, 99, 101, 107, 110, 100, 102, 98, 106, 109, 104, 105, 107, 110, 116, 115, 103, 102, 114, 104, 98, 92, 98, 103, 110, 119, 109, 105, 101, 96, 100, 98, 99, 104, 105, 110, 100, 113, 117, 101, 105, 97, 108, 102, 106, 112, 104, 111, 110, 107, 116, 103, 117], \"y\": [337, 324, 316, 322, 314, 330, 321, 308, 302, 323, 325, 327, 328, 307, 311, 314, 317, 319, 318, 303, 312, 325, 328, 334, 336, 340, 322, 298, 295, 310, 300, 327, 338, 340, 331, 320, 299, 300, 304, 307, 308, 316, 313, 332, 326, 322, 329, 339, 321, 327, 313, 312, 334, 324, 322, 320, 316, 298, 300, 311, 309, 307, 304, 315, 325, 325, 327, 316, 318, 328, 332, 336, 321, 314, 314, 329, 327, 301, 296, 294, 312, 340, 320, 322, 340, 319, 315, 317, 314, 316, 318, 299, 298, 301, 303, 304, 306, 331, 332, 323, 322, 312, 314, 317, 326, 316, 329, 338, 331, 304, 305, 321, 301, 320, 311, 310, 299, 290, 296, 327, 335, 334, 310, 308, 301, 300, 323, 319, 326, 333, 339, 303, 309, 323, 333, 314, 312, 316, 326, 318, 329, 332, 331, 340, 325, 320, 315, 326, 339, 311, 334, 332, 321, 324, 326, 312, 315, 309, 306, 297, 315, 298, 318, 317, 329, 322, 302, 313, 293, 311, 312, 334, 322, 323, 321, 320, 329, 319, 309, 307, 300, 305, 299, 314, 316, 327, 317, 335, 331, 324, 324, 323, 322, 336, 316, 307, 306, 310, 311, 313, 317, 315, 340, 334, 298, 295, 315, 310, 305, 301, 325, 328, 338, 333, 331, 330, 322, 321, 324, 312, 313, 316, 324, 308, 305, 296, 306, 312, 318, 324, 313, 319, 312, 304, 330, 326, 325, 329, 310, 299, 296, 317, 324, 325, 314, 328, 316, 311, 324, 321, 320, 316, 318, 335, 321, 307, 309, 324, 326, 331, 327, 312, 308, 324, 325, 313, 312, 314, 327, 308, 306, 299, 294, 312, 315, 322, 329, 320, 308, 304, 311, 317, 312, 321, 340, 331, 336, 324, 314, 313, 307, 300, 302, 312, 316, 317, 310, 320, 330, 305, 309, 319, 322, 323, 313, 321, 323, 325, 312, 308, 320, 328, 311, 301, 305, 308, 298, 300, 324, 327, 317, 323, 314, 305, 315, 326, 299, 295, 324, 297, 327, 311, 308, 319, 312, 325, 319, 332, 323, 324, 312, 326, 308, 305, 295, 316, 304, 299, 302, 313, 318, 325, 303, 300, 297, 317, 327, 301, 314, 321, 322, 334, 338, 306, 313, 330, 320, 311, 298, 301, 310, 324, 336, 321, 315, 304, 297, 290, 303, 311, 322, 319, 324, 300, 340, 335, 302, 307, 296, 320, 314, 318, 326, 317, 329, 324, 325, 330, 312, 333]}],\n",
              "                        {\"template\": {\"data\": {\"bar\": [{\"error_x\": {\"color\": \"#2a3f5f\"}, \"error_y\": {\"color\": \"#2a3f5f\"}, \"marker\": {\"line\": {\"color\": \"#E5ECF6\", \"width\": 0.5}}, \"type\": \"bar\"}], \"barpolar\": [{\"marker\": {\"line\": {\"color\": \"#E5ECF6\", \"width\": 0.5}}, \"type\": \"barpolar\"}], \"carpet\": [{\"aaxis\": {\"endlinecolor\": \"#2a3f5f\", \"gridcolor\": \"white\", \"linecolor\": \"white\", \"minorgridcolor\": \"white\", \"startlinecolor\": \"#2a3f5f\"}, \"baxis\": {\"endlinecolor\": \"#2a3f5f\", \"gridcolor\": \"white\", \"linecolor\": \"white\", \"minorgridcolor\": \"white\", \"startlinecolor\": \"#2a3f5f\"}, \"type\": \"carpet\"}], \"choropleth\": [{\"colorbar\": {\"outlinewidth\": 0, \"ticks\": \"\"}, \"type\": \"choropleth\"}], \"contour\": [{\"colorbar\": {\"outlinewidth\": 0, \"ticks\": \"\"}, \"colorscale\": [[0.0, \"#0d0887\"], [0.1111111111111111, \"#46039f\"], [0.2222222222222222, \"#7201a8\"], [0.3333333333333333, \"#9c179e\"], [0.4444444444444444, \"#bd3786\"], [0.5555555555555556, \"#d8576b\"], [0.6666666666666666, \"#ed7953\"], [0.7777777777777778, \"#fb9f3a\"], [0.8888888888888888, \"#fdca26\"], [1.0, \"#f0f921\"]], \"type\": \"contour\"}], \"contourcarpet\": [{\"colorbar\": {\"outlinewidth\": 0, \"ticks\": \"\"}, \"type\": \"contourcarpet\"}], \"heatmap\": [{\"colorbar\": {\"outlinewidth\": 0, \"ticks\": \"\"}, \"colorscale\": [[0.0, \"#0d0887\"], [0.1111111111111111, \"#46039f\"], [0.2222222222222222, \"#7201a8\"], [0.3333333333333333, \"#9c179e\"], [0.4444444444444444, \"#bd3786\"], [0.5555555555555556, \"#d8576b\"], [0.6666666666666666, \"#ed7953\"], [0.7777777777777778, \"#fb9f3a\"], [0.8888888888888888, \"#fdca26\"], [1.0, \"#f0f921\"]], \"type\": \"heatmap\"}], \"heatmapgl\": [{\"colorbar\": {\"outlinewidth\": 0, \"ticks\": \"\"}, \"colorscale\": [[0.0, \"#0d0887\"], [0.1111111111111111, \"#46039f\"], [0.2222222222222222, \"#7201a8\"], [0.3333333333333333, \"#9c179e\"], [0.4444444444444444, \"#bd3786\"], [0.5555555555555556, \"#d8576b\"], [0.6666666666666666, \"#ed7953\"], [0.7777777777777778, \"#fb9f3a\"], [0.8888888888888888, \"#fdca26\"], [1.0, \"#f0f921\"]], \"type\": \"heatmapgl\"}], \"histogram\": [{\"marker\": {\"colorbar\": {\"outlinewidth\": 0, \"ticks\": \"\"}}, \"type\": \"histogram\"}], \"histogram2d\": [{\"colorbar\": {\"outlinewidth\": 0, \"ticks\": \"\"}, \"colorscale\": [[0.0, \"#0d0887\"], [0.1111111111111111, \"#46039f\"], [0.2222222222222222, \"#7201a8\"], [0.3333333333333333, \"#9c179e\"], [0.4444444444444444, \"#bd3786\"], [0.5555555555555556, \"#d8576b\"], [0.6666666666666666, \"#ed7953\"], [0.7777777777777778, \"#fb9f3a\"], [0.8888888888888888, \"#fdca26\"], [1.0, \"#f0f921\"]], \"type\": \"histogram2d\"}], \"histogram2dcontour\": [{\"colorbar\": {\"outlinewidth\": 0, \"ticks\": \"\"}, \"colorscale\": [[0.0, \"#0d0887\"], [0.1111111111111111, \"#46039f\"], [0.2222222222222222, \"#7201a8\"], [0.3333333333333333, \"#9c179e\"], [0.4444444444444444, \"#bd3786\"], [0.5555555555555556, \"#d8576b\"], [0.6666666666666666, \"#ed7953\"], [0.7777777777777778, \"#fb9f3a\"], [0.8888888888888888, \"#fdca26\"], [1.0, \"#f0f921\"]], \"type\": \"histogram2dcontour\"}], \"mesh3d\": [{\"colorbar\": {\"outlinewidth\": 0, \"ticks\": \"\"}, \"type\": \"mesh3d\"}], \"parcoords\": [{\"line\": {\"colorbar\": {\"outlinewidth\": 0, \"ticks\": \"\"}}, \"type\": \"parcoords\"}], \"pie\": [{\"automargin\": true, \"type\": \"pie\"}], \"scatter\": [{\"marker\": {\"colorbar\": {\"outlinewidth\": 0, \"ticks\": \"\"}}, \"type\": \"scatter\"}], \"scatter3d\": [{\"line\": {\"colorbar\": {\"outlinewidth\": 0, \"ticks\": \"\"}}, \"marker\": {\"colorbar\": {\"outlinewidth\": 0, \"ticks\": \"\"}}, \"type\": \"scatter3d\"}], \"scattercarpet\": [{\"marker\": {\"colorbar\": {\"outlinewidth\": 0, \"ticks\": \"\"}}, \"type\": \"scattercarpet\"}], \"scattergeo\": [{\"marker\": {\"colorbar\": {\"outlinewidth\": 0, \"ticks\": \"\"}}, \"type\": \"scattergeo\"}], \"scattergl\": [{\"marker\": {\"colorbar\": {\"outlinewidth\": 0, \"ticks\": \"\"}}, \"type\": \"scattergl\"}], \"scattermapbox\": [{\"marker\": {\"colorbar\": {\"outlinewidth\": 0, \"ticks\": \"\"}}, \"type\": \"scattermapbox\"}], \"scatterpolar\": [{\"marker\": {\"colorbar\": {\"outlinewidth\": 0, \"ticks\": \"\"}}, \"type\": \"scatterpolar\"}], \"scatterpolargl\": [{\"marker\": {\"colorbar\": {\"outlinewidth\": 0, \"ticks\": \"\"}}, \"type\": \"scatterpolargl\"}], \"scatterternary\": [{\"marker\": {\"colorbar\": {\"outlinewidth\": 0, \"ticks\": \"\"}}, \"type\": \"scatterternary\"}], \"surface\": [{\"colorbar\": {\"outlinewidth\": 0, \"ticks\": \"\"}, \"colorscale\": [[0.0, \"#0d0887\"], [0.1111111111111111, \"#46039f\"], [0.2222222222222222, \"#7201a8\"], [0.3333333333333333, \"#9c179e\"], [0.4444444444444444, \"#bd3786\"], [0.5555555555555556, \"#d8576b\"], [0.6666666666666666, \"#ed7953\"], [0.7777777777777778, \"#fb9f3a\"], [0.8888888888888888, \"#fdca26\"], [1.0, \"#f0f921\"]], \"type\": \"surface\"}], \"table\": [{\"cells\": {\"fill\": {\"color\": \"#EBF0F8\"}, \"line\": {\"color\": \"white\"}}, \"header\": {\"fill\": {\"color\": \"#C8D4E3\"}, \"line\": {\"color\": \"white\"}}, \"type\": \"table\"}]}, \"layout\": {\"annotationdefaults\": {\"arrowcolor\": \"#2a3f5f\", \"arrowhead\": 0, \"arrowwidth\": 1}, \"coloraxis\": {\"colorbar\": {\"outlinewidth\": 0, \"ticks\": \"\"}}, \"colorscale\": {\"diverging\": [[0, \"#8e0152\"], [0.1, \"#c51b7d\"], [0.2, \"#de77ae\"], [0.3, \"#f1b6da\"], [0.4, \"#fde0ef\"], [0.5, \"#f7f7f7\"], [0.6, \"#e6f5d0\"], [0.7, \"#b8e186\"], [0.8, \"#7fbc41\"], [0.9, \"#4d9221\"], [1, \"#276419\"]], \"sequential\": [[0.0, \"#0d0887\"], [0.1111111111111111, \"#46039f\"], [0.2222222222222222, \"#7201a8\"], [0.3333333333333333, \"#9c179e\"], [0.4444444444444444, \"#bd3786\"], [0.5555555555555556, \"#d8576b\"], [0.6666666666666666, \"#ed7953\"], [0.7777777777777778, \"#fb9f3a\"], [0.8888888888888888, \"#fdca26\"], [1.0, \"#f0f921\"]], \"sequentialminus\": [[0.0, \"#0d0887\"], [0.1111111111111111, \"#46039f\"], [0.2222222222222222, \"#7201a8\"], [0.3333333333333333, \"#9c179e\"], [0.4444444444444444, \"#bd3786\"], [0.5555555555555556, \"#d8576b\"], [0.6666666666666666, \"#ed7953\"], [0.7777777777777778, \"#fb9f3a\"], [0.8888888888888888, \"#fdca26\"], [1.0, \"#f0f921\"]]}, \"colorway\": [\"#636efa\", \"#EF553B\", \"#00cc96\", \"#ab63fa\", \"#FFA15A\", \"#19d3f3\", \"#FF6692\", \"#B6E880\", \"#FF97FF\", \"#FECB52\"], \"font\": {\"color\": \"#2a3f5f\"}, \"geo\": {\"bgcolor\": \"white\", \"lakecolor\": \"white\", \"landcolor\": \"#E5ECF6\", \"showlakes\": true, \"showland\": true, \"subunitcolor\": \"white\"}, \"hoverlabel\": {\"align\": \"left\"}, \"hovermode\": \"closest\", \"mapbox\": {\"style\": \"light\"}, \"paper_bgcolor\": \"white\", \"plot_bgcolor\": \"#E5ECF6\", \"polar\": {\"angularaxis\": {\"gridcolor\": \"white\", \"linecolor\": \"white\", \"ticks\": \"\"}, \"bgcolor\": \"#E5ECF6\", \"radialaxis\": {\"gridcolor\": \"white\", \"linecolor\": \"white\", \"ticks\": \"\"}}, \"scene\": {\"xaxis\": {\"backgroundcolor\": \"#E5ECF6\", \"gridcolor\": \"white\", \"gridwidth\": 2, \"linecolor\": \"white\", \"showbackground\": true, \"ticks\": \"\", \"zerolinecolor\": \"white\"}, \"yaxis\": {\"backgroundcolor\": \"#E5ECF6\", \"gridcolor\": \"white\", \"gridwidth\": 2, \"linecolor\": \"white\", \"showbackground\": true, \"ticks\": \"\", \"zerolinecolor\": \"white\"}, \"zaxis\": {\"backgroundcolor\": \"#E5ECF6\", \"gridcolor\": \"white\", \"gridwidth\": 2, \"linecolor\": \"white\", \"showbackground\": true, \"ticks\": \"\", \"zerolinecolor\": \"white\"}}, \"shapedefaults\": {\"line\": {\"color\": \"#2a3f5f\"}}, \"ternary\": {\"aaxis\": {\"gridcolor\": \"white\", \"linecolor\": \"white\", \"ticks\": \"\"}, \"baxis\": {\"gridcolor\": \"white\", \"linecolor\": \"white\", \"ticks\": \"\"}, \"bgcolor\": \"#E5ECF6\", \"caxis\": {\"gridcolor\": \"white\", \"linecolor\": \"white\", \"ticks\": \"\"}}, \"title\": {\"x\": 0.05}, \"xaxis\": {\"automargin\": true, \"gridcolor\": \"white\", \"linecolor\": \"white\", \"ticks\": \"\", \"title\": {\"standoff\": 15}, \"zerolinecolor\": \"white\", \"zerolinewidth\": 2}, \"yaxis\": {\"automargin\": true, \"gridcolor\": \"white\", \"linecolor\": \"white\", \"ticks\": \"\", \"title\": {\"standoff\": 15}, \"zerolinecolor\": \"white\", \"zerolinewidth\": 2}}}},\n",
              "                        {\"responsive\": true}\n",
              "                    ).then(function(){\n",
              "                            \n",
              "var gd = document.getElementById('86f67e44-9a45-4ac2-95a6-41a058d381a7');\n",
              "var x = new MutationObserver(function (mutations, observer) {{\n",
              "        var display = window.getComputedStyle(gd).display;\n",
              "        if (!display || display === 'none') {{\n",
              "            console.log([gd, 'removed!']);\n",
              "            Plotly.purge(gd);\n",
              "            observer.disconnect();\n",
              "        }}\n",
              "}});\n",
              "\n",
              "// Listen for the removal of the full notebook cells\n",
              "var notebookContainer = gd.closest('#notebook-container');\n",
              "if (notebookContainer) {{\n",
              "    x.observe(notebookContainer, {childList: true});\n",
              "}}\n",
              "\n",
              "// Listen for the clearing of the current output cell\n",
              "var outputEl = gd.closest('.output');\n",
              "if (outputEl) {{\n",
              "    x.observe(outputEl, {childList: true});\n",
              "}}\n",
              "\n",
              "                        })\n",
              "                };\n",
              "                \n",
              "            </script>\n",
              "        </div>\n",
              "</body>\n",
              "</html>"
            ]
          },
          "metadata": {
            "tags": []
          }
        },
        {
          "output_type": "stream",
          "text": [
            "     TOEFL Score  GRE\n",
            "250          104  320\n",
            "63           107  315\n",
            "312          107  311\n",
            "159          100  297\n",
            "283          111  321\n",
            "..           ...  ...\n",
            "323          102  305\n",
            "192          114  322\n",
            "117          104  290\n",
            "47           119  339\n",
            "172          110  322\n",
            "\n",
            "[300 rows x 2 columns]\n"
          ],
          "name": "stdout"
        },
        {
          "output_type": "error",
          "ename": "ValueError",
          "evalue": "ignored",
          "traceback": [
            "\u001b[0;31m---------------------------------------------------------------------------\u001b[0m",
            "\u001b[0;31mValueError\u001b[0m                                Traceback (most recent call last)",
            "\u001b[0;32m<ipython-input-12-e430a62a99d8>\u001b[0m in \u001b[0;36m<module>\u001b[0;34m()\u001b[0m\n\u001b[1;32m     35\u001b[0m \u001b[0mprint\u001b[0m\u001b[0;34m(\u001b[0m\u001b[0mScoresTrain\u001b[0m\u001b[0;34m)\u001b[0m\u001b[0;34m\u001b[0m\u001b[0;34m\u001b[0m\u001b[0m\n\u001b[1;32m     36\u001b[0m \u001b[0mlr\u001b[0m \u001b[0;34m=\u001b[0m \u001b[0mLogisticRegression\u001b[0m\u001b[0;34m(\u001b[0m\u001b[0mrandom_state\u001b[0m \u001b[0;34m=\u001b[0m \u001b[0;36m0\u001b[0m\u001b[0;34m)\u001b[0m\u001b[0;34m\u001b[0m\u001b[0;34m\u001b[0m\u001b[0m\n\u001b[0;32m---> 37\u001b[0;31m \u001b[0mlr\u001b[0m\u001b[0;34m.\u001b[0m\u001b[0mfit\u001b[0m\u001b[0;34m(\u001b[0m\u001b[0mScoresTrain\u001b[0m\u001b[0;34m,\u001b[0m\u001b[0mAdmissionTrain\u001b[0m\u001b[0;34m)\u001b[0m\u001b[0;34m\u001b[0m\u001b[0;34m\u001b[0m\u001b[0m\n\u001b[0m\u001b[1;32m     38\u001b[0m \u001b[0;34m\u001b[0m\u001b[0m\n\u001b[1;32m     39\u001b[0m \u001b[0mAdmissionPredict\u001b[0m \u001b[0;34m=\u001b[0m \u001b[0mlr\u001b[0m\u001b[0;34m.\u001b[0m\u001b[0mpredict\u001b[0m\u001b[0;34m(\u001b[0m\u001b[0mScoresTest\u001b[0m\u001b[0;34m)\u001b[0m\u001b[0;34m\u001b[0m\u001b[0;34m\u001b[0m\u001b[0m\n",
            "\u001b[0;32m/usr/local/lib/python3.6/dist-packages/sklearn/linear_model/_logistic.py\u001b[0m in \u001b[0;36mfit\u001b[0;34m(self, X, y, sample_weight)\u001b[0m\n\u001b[1;32m   1526\u001b[0m         X, y = check_X_y(X, y, accept_sparse='csr', dtype=_dtype, order=\"C\",\n\u001b[1;32m   1527\u001b[0m                          accept_large_sparse=solver != 'liblinear')\n\u001b[0;32m-> 1528\u001b[0;31m         \u001b[0mcheck_classification_targets\u001b[0m\u001b[0;34m(\u001b[0m\u001b[0my\u001b[0m\u001b[0;34m)\u001b[0m\u001b[0;34m\u001b[0m\u001b[0;34m\u001b[0m\u001b[0m\n\u001b[0m\u001b[1;32m   1529\u001b[0m         \u001b[0mself\u001b[0m\u001b[0;34m.\u001b[0m\u001b[0mclasses_\u001b[0m \u001b[0;34m=\u001b[0m \u001b[0mnp\u001b[0m\u001b[0;34m.\u001b[0m\u001b[0munique\u001b[0m\u001b[0;34m(\u001b[0m\u001b[0my\u001b[0m\u001b[0;34m)\u001b[0m\u001b[0;34m\u001b[0m\u001b[0;34m\u001b[0m\u001b[0m\n\u001b[1;32m   1530\u001b[0m         \u001b[0mn_samples\u001b[0m\u001b[0;34m,\u001b[0m \u001b[0mn_features\u001b[0m \u001b[0;34m=\u001b[0m \u001b[0mX\u001b[0m\u001b[0;34m.\u001b[0m\u001b[0mshape\u001b[0m\u001b[0;34m\u001b[0m\u001b[0;34m\u001b[0m\u001b[0m\n",
            "\u001b[0;32m/usr/local/lib/python3.6/dist-packages/sklearn/utils/multiclass.py\u001b[0m in \u001b[0;36mcheck_classification_targets\u001b[0;34m(y)\u001b[0m\n\u001b[1;32m    167\u001b[0m     if y_type not in ['binary', 'multiclass', 'multiclass-multioutput',\n\u001b[1;32m    168\u001b[0m                       'multilabel-indicator', 'multilabel-sequences']:\n\u001b[0;32m--> 169\u001b[0;31m         \u001b[0;32mraise\u001b[0m \u001b[0mValueError\u001b[0m\u001b[0;34m(\u001b[0m\u001b[0;34m\"Unknown label type: %r\"\u001b[0m \u001b[0;34m%\u001b[0m \u001b[0my_type\u001b[0m\u001b[0;34m)\u001b[0m\u001b[0;34m\u001b[0m\u001b[0;34m\u001b[0m\u001b[0m\n\u001b[0m\u001b[1;32m    170\u001b[0m \u001b[0;34m\u001b[0m\u001b[0m\n\u001b[1;32m    171\u001b[0m \u001b[0;34m\u001b[0m\u001b[0m\n",
            "\u001b[0;31mValueError\u001b[0m: Unknown label type: 'continuous'"
          ]
        }
      ]
    }
  ]
}